{
 "cells": [
  {
   "cell_type": "code",
   "execution_count": 1,
   "id": "a221074b-823a-44b6-aaa8-6a1afe977509",
   "metadata": {},
   "outputs": [],
   "source": [
    "import pandas as pd"
   ]
  },
  {
   "cell_type": "code",
   "execution_count": 2,
   "id": "62906dc8-3af8-4be8-8471-b857df511191",
   "metadata": {},
   "outputs": [
    {
     "data": {
      "text/html": [
       "<div>\n",
       "<style scoped>\n",
       "    .dataframe tbody tr th:only-of-type {\n",
       "        vertical-align: middle;\n",
       "    }\n",
       "\n",
       "    .dataframe tbody tr th {\n",
       "        vertical-align: top;\n",
       "    }\n",
       "\n",
       "    .dataframe thead th {\n",
       "        text-align: right;\n",
       "    }\n",
       "</style>\n",
       "<table border=\"1\" class=\"dataframe\">\n",
       "  <thead>\n",
       "    <tr style=\"text-align: right;\">\n",
       "      <th></th>\n",
       "      <th>transaction_id</th>\n",
       "      <th>transaction_date</th>\n",
       "      <th>transaction_time</th>\n",
       "      <th>transaction_qty</th>\n",
       "      <th>store_id</th>\n",
       "      <th>store_location</th>\n",
       "      <th>product_id</th>\n",
       "      <th>unit_price</th>\n",
       "      <th>product_category</th>\n",
       "      <th>product_type</th>\n",
       "      <th>product_detail</th>\n",
       "    </tr>\n",
       "  </thead>\n",
       "  <tbody>\n",
       "    <tr>\n",
       "      <th>0</th>\n",
       "      <td>1</td>\n",
       "      <td>1/1/2023</td>\n",
       "      <td>7:06:11</td>\n",
       "      <td>2</td>\n",
       "      <td>5</td>\n",
       "      <td>Lower Manhattan</td>\n",
       "      <td>32</td>\n",
       "      <td>3.0</td>\n",
       "      <td>Coffee</td>\n",
       "      <td>Gourmet brewed coffee</td>\n",
       "      <td>Ethiopia Rg</td>\n",
       "    </tr>\n",
       "    <tr>\n",
       "      <th>1</th>\n",
       "      <td>2</td>\n",
       "      <td>1/1/2023</td>\n",
       "      <td>7:08:56</td>\n",
       "      <td>2</td>\n",
       "      <td>5</td>\n",
       "      <td>Lower Manhattan</td>\n",
       "      <td>57</td>\n",
       "      <td>3.1</td>\n",
       "      <td>Tea</td>\n",
       "      <td>Brewed Chai tea</td>\n",
       "      <td>Spicy Eye Opener Chai Lg</td>\n",
       "    </tr>\n",
       "    <tr>\n",
       "      <th>2</th>\n",
       "      <td>3</td>\n",
       "      <td>1/1/2023</td>\n",
       "      <td>7:14:04</td>\n",
       "      <td>2</td>\n",
       "      <td>5</td>\n",
       "      <td>Lower Manhattan</td>\n",
       "      <td>59</td>\n",
       "      <td>4.5</td>\n",
       "      <td>Drinking Chocolate</td>\n",
       "      <td>Hot chocolate</td>\n",
       "      <td>Dark chocolate Lg</td>\n",
       "    </tr>\n",
       "    <tr>\n",
       "      <th>3</th>\n",
       "      <td>4</td>\n",
       "      <td>1/1/2023</td>\n",
       "      <td>7:20:24</td>\n",
       "      <td>1</td>\n",
       "      <td>5</td>\n",
       "      <td>Lower Manhattan</td>\n",
       "      <td>22</td>\n",
       "      <td>2.0</td>\n",
       "      <td>Coffee</td>\n",
       "      <td>Drip coffee</td>\n",
       "      <td>Our Old Time Diner Blend Sm</td>\n",
       "    </tr>\n",
       "    <tr>\n",
       "      <th>4</th>\n",
       "      <td>5</td>\n",
       "      <td>1/1/2023</td>\n",
       "      <td>7:22:41</td>\n",
       "      <td>2</td>\n",
       "      <td>5</td>\n",
       "      <td>Lower Manhattan</td>\n",
       "      <td>57</td>\n",
       "      <td>3.1</td>\n",
       "      <td>Tea</td>\n",
       "      <td>Brewed Chai tea</td>\n",
       "      <td>Spicy Eye Opener Chai Lg</td>\n",
       "    </tr>\n",
       "  </tbody>\n",
       "</table>\n",
       "</div>"
      ],
      "text/plain": [
       "   transaction_id transaction_date transaction_time  transaction_qty  \\\n",
       "0               1         1/1/2023          7:06:11                2   \n",
       "1               2         1/1/2023          7:08:56                2   \n",
       "2               3         1/1/2023          7:14:04                2   \n",
       "3               4         1/1/2023          7:20:24                1   \n",
       "4               5         1/1/2023          7:22:41                2   \n",
       "\n",
       "   store_id   store_location  product_id  unit_price    product_category  \\\n",
       "0         5  Lower Manhattan          32         3.0              Coffee   \n",
       "1         5  Lower Manhattan          57         3.1                 Tea   \n",
       "2         5  Lower Manhattan          59         4.5  Drinking Chocolate   \n",
       "3         5  Lower Manhattan          22         2.0              Coffee   \n",
       "4         5  Lower Manhattan          57         3.1                 Tea   \n",
       "\n",
       "            product_type               product_detail  \n",
       "0  Gourmet brewed coffee                  Ethiopia Rg  \n",
       "1        Brewed Chai tea     Spicy Eye Opener Chai Lg  \n",
       "2          Hot chocolate            Dark chocolate Lg  \n",
       "3            Drip coffee  Our Old Time Diner Blend Sm  \n",
       "4        Brewed Chai tea     Spicy Eye Opener Chai Lg  "
      ]
     },
     "execution_count": 2,
     "metadata": {},
     "output_type": "execute_result"
    }
   ],
   "source": [
    "df = pd.read_csv('coffee_shop_sales.csv')\n",
    "df.head()"
   ]
  },
  {
   "cell_type": "code",
   "execution_count": 16,
   "id": "877c811d-de5f-4574-9e1c-0c75dbaf2a80",
   "metadata": {},
   "outputs": [
    {
     "name": "stdout",
     "output_type": "stream",
     "text": [
      "Monday 31231\n"
     ]
    }
   ],
   "source": [
    "pd_date_obj = pd.to_datetime(df['transaction_date'])\n",
    "pd_date_obj = pd.to_datetime(df['transaction_date'])\n",
    "\n",
    "if 'day_name' in df.columns:\n",
    "    df.drop('day_name', axis=1, inplace=True)\n",
    "\n",
    "day_name = pd_date_obj.dt.day_name()\n",
    "\n",
    "df.insert(2, 'day_name', day_name)\n",
    "\n",
    "product_detail_day_grp = df.groupby('day_name')['transaction_qty'].sum()\n",
    "print(product_detail_day_grp.idxmax(),product_detail_day_grp.max())"
   ]
  },
  {
   "cell_type": "code",
   "execution_count": 4,
   "id": "723ef459-3749-4d76-b290-f1c8ae620842",
   "metadata": {},
   "outputs": [
    {
     "name": "stdout",
     "output_type": "stream",
     "text": [
      "Earl Grey Rg 4708\n",
      "Dark chocolate 118\n"
     ]
    }
   ],
   "source": [
    "product_detail_grp = df.groupby('product_detail')['transaction_qty'].sum()\n",
    "max_sold_product = product_detail_grp.idxmax()\n",
    "min_sold_product = product_detail_grp.idxmin()\n",
    "\n",
    "print(max_sold_product, product_detail_grp.max())\n",
    "print(min_sold_product, product_detail_grp.min())"
   ]
  },
  {
   "cell_type": "code",
   "execution_count": null,
   "id": "6401900d-c993-40ad-83b5-53689d527856",
   "metadata": {},
   "outputs": [],
   "source": []
  }
 ],
 "metadata": {
  "kernelspec": {
   "display_name": "Python 3 (ipykernel)",
   "language": "python",
   "name": "python3"
  },
  "language_info": {
   "codemirror_mode": {
    "name": "ipython",
    "version": 3
   },
   "file_extension": ".py",
   "mimetype": "text/x-python",
   "name": "python",
   "nbconvert_exporter": "python",
   "pygments_lexer": "ipython3",
   "version": "3.12.4"
  }
 },
 "nbformat": 4,
 "nbformat_minor": 5
}
